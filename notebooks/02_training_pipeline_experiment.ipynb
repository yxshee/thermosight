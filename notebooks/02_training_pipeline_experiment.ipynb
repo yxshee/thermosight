{
 "cells": [
  {
   "cell_type": "markdown",
   "id": "0d815ef6",
   "metadata": {},
   "source": [
    "# Training Pipeline Experiment\n",
    "\n",
    "This notebook runs training experiments: baseline ViT, hyperparameter sweeps, logging performance."
   ]
  },
  {
   "cell_type": "code",
   "execution_count": null,
   "id": "39c53ac7",
   "metadata": {},
   "outputs": [],
   "source": [
    "# Imports and setup\n",
    "import os\n",
    "import torch\n",
    "from torch import nn, optim\n",
    "from torch.utils.data import DataLoader\n",
    "from torchvision import datasets, transforms\n",
    "from torch.utils.tensorboard import SummaryWriter\n",
    "from src.models.vit_model import ViT"
   ]
  },
  {
   "cell_type": "code",
   "execution_count": null,
   "id": "49ec4a18",
   "metadata": {},
   "outputs": [],
   "source": [
    "# Data transforms and loaders\n",
    "train_dir = os.path.join('..', 'data', 'train')\n",
    "test_dir = os.path.join('..', 'data', 'test')\n",
    "transform = transforms.Compose([\n",
    "    transforms.Resize((460, 460)),\n",
    "    transforms.ToTensor(),\n",
    "    transforms.Normalize([0.485,0.456,0.406],[0.229,0.224,0.225])\n",
    "])\n",
    "train_ds = datasets.ImageFolder(train_dir, transform=transform)\n",
    "test_ds = datasets.ImageFolder(test_dir, transform=transform)\n",
    "train_loader = DataLoader(train_ds, batch_size=32, shuffle=True)\n",
    "test_loader = DataLoader(test_ds, batch_size=32)"
   ]
  },
  {
   "cell_type": "code",
   "execution_count": null,
   "id": "f6ae7fb3",
   "metadata": {},
   "outputs": [],
   "source": [
    "# Model, loss, optimizer, device\n",
    "device = torch.device('cuda' if torch.cuda.is_available() else 'cpu')\n",
    "model = ViT(img_size=460, patch_size=8).to(device)\n",
    "criterion = nn.CrossEntropyLoss()\n",
    "optimizer = optim.Adam(model.parameters(), lr=1e-4)\n",
    "writer = SummaryWriter(log_dir=os.path.join('..','logs'))"
   ]
  },
  {
   "cell_type": "code",
   "execution_count": null,
   "id": "758769f6",
   "metadata": {},
   "outputs": [],
   "source": [
    "# Training loop\n",
    "best_acc = 0.0\n",
    "for epoch in range(5):\n",
    "    model.train()\n",
    "    running_loss = 0.0\n",
    "    for imgs, labels in train_loader:\n",
    "        imgs, labels = imgs.to(device), labels.to(device)\n",
    "        optimizer.zero_grad()\n",
    "        outputs = model(imgs)\n",
    "        loss = criterion(outputs, labels)\n",
    "        loss.backward()\n",
    "        optimizer.step()\n",
    "        running_loss += loss.item()\n",
    "    avg_loss = running_loss / len(train_loader)\n",
    "    # Evaluate\n",
    "    model.eval()\n",
    "    correct, total = 0, 0\n",
    "    with torch.no_grad():\n",
    "        for imgs, labels in test_loader:\n",
    "            imgs, labels = imgs.to(device), labels.to(device)\n",
    "            preds = model(imgs).argmax(dim=1)\n",
    "            total += labels.size(0)\n",
    "            correct += (preds == labels).sum().item()\n",
    "    acc = correct / total\n",
    "    writer.add_scalar('Loss/train', avg_loss, epoch)\n",
    "    writer.add_scalar('Accuracy/test', acc, epoch)\n",
    "    print(f'Epoch {epoch+1}: Loss={avg_loss:.4f}, Acc={acc:.4f}')\n",
    "    if acc > best_acc:\n",
    "        best_acc = acc\n",
    "        torch.save(model.state_dict(), os.path.join('..','models','best_model.pth'))\n",
    "writer.close()"
   ]
  }
 ],
 "metadata": {
  "language_info": {
   "name": "python"
  }
 },
 "nbformat": 4,
 "nbformat_minor": 5
}
