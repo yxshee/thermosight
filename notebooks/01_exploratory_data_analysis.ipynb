{
 "cells": [
  {
   "cell_type": "markdown",
   "id": "3c6be279",
   "metadata": {},
   "source": [
    "# Exploratory Data Analysis\n",
    "\n",
    "This notebook explores the dataset: distributions per class, sample images, and basic statistics."
   ]
  },
  {
   "cell_type": "code",
   "execution_count": null,
   "id": "9d78696d",
   "metadata": {},
   "outputs": [],
   "source": [
    "# Imports\n",
    "import os\n",
    "import matplotlib.pyplot as plt\n",
    "from PIL import Image\n",
    "import random"
   ]
  },
  {
   "cell_type": "code",
   "execution_count": null,
   "id": "fefcf5e3",
   "metadata": {},
   "outputs": [],
   "source": [
    "# Load dataset and compute class distribution\n",
    "data_dir = os.path.join('..', 'data', 'train')\n",
    "classes = sorted([d for d in os.listdir(data_dir) if os.path.isdir(os.path.join(data_dir, d))])\n",
    "counts = {cls: len(os.listdir(os.path.join(data_dir, cls))) for cls in classes}\n",
    "plt.figure(figsize=(8,5))\n",
    "plt.bar(counts.keys(), counts.values())\n",
    "plt.xlabel('Class')\n",
    "plt.ylabel('Number of images')\n",
    "plt.title('Class Distribution')\n",
    "plt.show()"
   ]
  },
  {
   "cell_type": "code",
   "execution_count": null,
   "id": "4e488a2e",
   "metadata": {},
   "outputs": [],
   "source": [
    "# Display a random sample per class\n",
    "fig, axes = plt.subplots(1, len(classes), figsize=(15,5))\n",
    "for ax, cls in zip(axes, classes):\n",
    "    img_name = random.choice(os.listdir(os.path.join(data_dir, cls)))\n",
    "    img = Image.open(os.path.join(data_dir, cls, img_name))\n",
    "    ax.imshow(img)\n",
    "    ax.set_title(cls)\n",
    "    ax.axis('off')\n",
    "plt.show()"
   ]
  }
 ],
 "metadata": {
  "language_info": {
   "name": "python"
  }
 },
 "nbformat": 4,
 "nbformat_minor": 5
}
