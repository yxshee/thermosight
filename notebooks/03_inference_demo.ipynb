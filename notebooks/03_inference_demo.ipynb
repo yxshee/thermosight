{
 "cells": [
  {
   "cell_type": "markdown",
   "id": "2e6da99e",
   "metadata": {},
   "source": [
    "# Inference Demo\n",
    "\n",
    "Load a checkpoint and run inference on new microscope images. Visualize heatmaps and predicted classes."
   ]
  },
  {
   "cell_type": "code",
   "execution_count": null,
   "id": "28d4790f",
   "metadata": {},
   "outputs": [],
   "source": [
    "# Imports\n",
    "import os\n",
    "import matplotlib.pyplot as plt\n",
    "from src.inference.predict import predict_image\n",
    "from PIL import Image"
   ]
  },
  {
   "cell_type": "code",
   "execution_count": null,
   "id": "1dfbd8de",
   "metadata": {},
   "outputs": [],
   "source": [
    "# Set paths\n",
    "model_path = os.path.join('..','models','best_model.pth')\n",
    "image_dir = os.path.join('..','data','test','200°C')\n",
    "image_path = os.path.join(image_dir, os.listdir(image_dir)[0])"
   ]
  },
  {
   "cell_type": "code",
   "execution_count": null,
   "id": "0ed8ec67",
   "metadata": {},
   "outputs": [],
   "source": [
    "# Run prediction and plot results\n",
    "probs = predict_image(image_path, model_path)\n",
    "classes = list(probs.keys())\n",
    "values = list(probs.values())\n",
    "plt.figure(figsize=(6,4))\n",
    "plt.bar(classes, values)\n",
    "plt.xlabel('Class')\n",
    "plt.ylabel('Probability')\n",
    "plt.title('Prediction Probabilities')\n",
    "plt.show()\n",
    "\n",
    "img = Image.open(image_path)\n",
    "plt.imshow(img)\n",
    "plt.axis('off')\n",
    "plt.show()"
   ]
  }
 ],
 "metadata": {
  "language_info": {
   "name": "python"
  }
 },
 "nbformat": 4,
 "nbformat_minor": 5
}
