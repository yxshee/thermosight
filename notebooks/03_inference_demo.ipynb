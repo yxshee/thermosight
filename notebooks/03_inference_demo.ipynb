{
 "cells": [
  {
   "cell_type": "markdown",
   "id": "2e6da99e",
   "metadata": {},
   "source": [
    "# Inference Demo\n",
    "\n",
    "Load a checkpoint and run inference on new microscope images. Visualize heatmaps and predicted classes."
   ]
  }
 ],
 "metadata": {
  "language_info": {
   "name": "python"
  }
 },
 "nbformat": 4,
 "nbformat_minor": 5
}
